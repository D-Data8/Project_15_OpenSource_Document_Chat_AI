{
  "cells": [
    {
      "cell_type": "markdown",
      "metadata": {
        "id": "xnSTw4AYEHW1"
      },
      "source": [
        "# **An Open Source Document Querying AI Tool:**\n",
        "## **Utilising Large Lanaguage Models (LLMs), Chroma, Huggingface, Langchain and Streamlit.**\n",
        "\n",
        "This notebook will detail a Python project which will use open source Large Language Models (LLMs) to allow users to receive answers to their questions on a long PDF document, via an LLM AI tool. This will be achieved through the use of Langchain, Chroma Vector Store, HuggingFace and Streamlit libraries.   \n",
        "The PDF document that will be used for this project is a 25 page bicycle insurance policy from cycleguard.\n",
        "\n",
        "This project has been implemented within a Google Colab cloud notebook environment, which should allow others to use this code without the need for locally downloading and computing. Running this notebook is possible with the CPU enabled but it will be much faster with GPU acceleration."
      ]
    },
    {
      "cell_type": "markdown",
      "metadata": {
        "id": "Z6n9lXlvK5wZ"
      },
      "source": [
        "# **1. Import Required Libraries**"
      ]
    },
    {
      "cell_type": "code",
      "execution_count": null,
      "metadata": {
        "id": "LIWpW7j6EN3U"
      },
      "outputs": [],
      "source": [
        "!pip install langchain streamlit langchain-community InstructorEmbedding sentence_transformers==2.2.2 pypdf chromadb"
      ]
    },
    {
      "cell_type": "code",
      "execution_count": null,
      "metadata": {
        "id": "CAq8si_Q9eld"
      },
      "outputs": [],
      "source": [
        "import os\n",
        "import time\n",
        "import langchain\n",
        "from langchain.llms import HuggingFaceHub\n",
        "from langchain.vectorstores import Chroma\n",
        "from langchain.document_loaders import PyPDFLoader\n",
        "from langchain.chains import RetrievalQA\n",
        "from langchain.embeddings import HuggingFaceInstructEmbeddings\n",
        "import urllib\n",
        "!npm install localtunnel"
      ]
    },
    {
      "cell_type": "markdown",
      "metadata": {
        "id": "Hb2woesyTkXI"
      },
      "source": [
        "# **2. Text Embedding Model & Chroma Embedding Database**\n",
        "The text embedding model is used to process the input PDF text document so that sentences and words can be converted into a series of vectors that can be stored in a vector database. Chroma is the open source embedding database that will be used for this project (https://www.trychroma.com/).\n",
        "\n",
        "User queries will also be embedded using the text embedding model, which allows the embedding database to be searched for closely related embeddings/vectors. This is the implementation of a semantic search through the PDF document, rather than a key word search, which should provide improved results.\n",
        "\n",
        "Huggingface has a leaderboard of text embedding models that can be found at this link: https://huggingface.co/blog/mteb and for this project the text embedding model called \"hkunlp/instructor-xl\" wil be used (https://huggingface.co/hkunlp/instructor-xl). This model is well rated for the embedding of text documents for multiple applications, so should be suitable for this application."
      ]
    },
    {
      "cell_type": "markdown",
      "metadata": {
        "id": "-3JyYERofm6G"
      },
      "source": [
        "## **2.1 Load the PDF Document**"
      ]
    },
    {
      "cell_type": "code",
      "execution_count": 5,
      "metadata": {
        "colab": {
          "base_uri": "https://localhost:8080/"
        },
        "id": "ZHxcTO9v_kZ_",
        "outputId": "16f8334e-0b9b-4bb5-8541-e6741036248c"
      },
      "outputs": [
        {
          "output_type": "stream",
          "name": "stdout",
          "text": [
            "load INSTRUCTOR_Transformer\n",
            "max_seq_length  512\n"
          ]
        }
      ],
      "source": [
        "# Set your huggingface API token to allow access to models:\n",
        "os.environ['HUGGINGFACEHUB_API_TOKEN'] = 'your_private_API_key'# Required for the selected LLM model\n",
        "\n",
        "text_embedding_model = HuggingFaceInstructEmbeddings(model_name=\"hkunlp/instructor-xl\")\n",
        "\n",
        "# Load the PDF document:\n",
        "input_document = PyPDFLoader('cycleGuard Policy Wording 2021-03.pdf') # Ensure this PDF document file has already been loaded into Colab working directory\n",
        "\n",
        "# Split pages from the PDF\n",
        "pdf_pages = input_document.load_and_split()"
      ]
    },
    {
      "cell_type": "markdown",
      "metadata": {
        "id": "51SjC4_fg-xw"
      },
      "source": [
        "## **2.2 Embed the PDF Document in Chroma Vector Database**\n",
        "The input PDF document will be embedded in the next cell using the text embedding model and the Chroma database."
      ]
    },
    {
      "cell_type": "code",
      "execution_count": 62,
      "metadata": {
        "colab": {
          "base_uri": "https://localhost:8080/"
        },
        "id": "6pmTUPitqVZR",
        "outputId": "933814c4-a280-4ff1-d7eb-55826ea54bdc"
      },
      "outputs": [
        {
          "output_type": "stream",
          "name": "stdout",
          "text": [
            "Time to create vector store [mins]: 0.18\n"
          ]
        }
      ],
      "source": [
        "# Covert the uploaded document to vector format and print out the time taken:\n",
        "t1 = time.time()\n",
        "\n",
        "vector_store = Chroma.from_documents(pdf_pages, text_embedding_model, collection_name='cycle_insurance')\n",
        "\n",
        "t2 = time.time()\n",
        "time_taken = t2 - t1\n",
        "print(\"Time to create vector store [mins]:\", round(time_taken/60, 2)) # Takes ~20s with GPU, ~12mins with CPU"
      ]
    },
    {
      "cell_type": "markdown",
      "metadata": {
        "id": "MNt_0NmYhlec"
      },
      "source": [
        "## **2.3 Query the Chroma Vector Database**\n",
        "Test queries will be run to verify that the PDF document has been embedded successfully. Text queries are automatically converted into an embedding with Chroma, so that the database can be interrogated."
      ]
    },
    {
      "cell_type": "code",
      "execution_count": 7,
      "metadata": {
        "colab": {
          "base_uri": "https://localhost:8080/"
        },
        "id": "BsqAZVX71CdK",
        "outputId": "48136eec-c022-4b13-dccd-d28c6457347c"
      },
      "outputs": [
        {
          "output_type": "stream",
          "name": "stdout",
          "text": [
            "The Administrator\n",
            "cycleGuard is a trading style of Thistle Insurance Services Limited. \n",
            "Thistle Insurance Services Limited is authorised and regulated by the Financial Conduct Authority. FRN 310419.  \n",
            "Registered in England No. 00338645. \n",
            "Registered office: Rossington’s Business Park, West Carr Road, Retford, Nottinghamshire, DN22 7SW\n",
            "Thistle Insurance Services Limited is part of the PIB Group.\n",
            "The Underwriter\n",
            "This insurance is underwritten by UK General Insurance Limited on behalf of Watford Insurance Company Europe \n",
            "Limited. Watford Insurance Company Europe Limited is a Gibraltar based insurance company with its registered office at; \n",
            "PO Box 1338, First Floor, Grand Ocean Plaza, Ocean Village, Gibraltar.  \n",
            "UK General Insurance Limited is authorised and regulated by the Financial Conduct Authority. Firm Reference No. \n",
            "310101. You  can check our  details on the Financial Services Register https://register.fca.org.uk/\n",
            "Watford Insurance Company Europe Limited is authorised and regulated by the Gibraltar Financial Services Commission \n",
            "under incorporation number 112869. This can be checked by visiting the Gibraltar FSC website at https://www.fsc.gi/\n",
            "As an insurance company authorised in Gibraltar, Watford Insurance Company Europe Limited is permitted under the \n",
            "Financial Services and Markets Act 2000 (Gibraltar) Order 2001 to conduct business in the United Kingdom under FCA \n",
            "reference 714197. You  can check this by visiting the Financial Services Register on the FCA website at https://register.\n",
            "fca.org.uk\n",
            "Details about the extent of its regulation by the Financial Conduct Authority are available on request. \n",
            "How to Contact Us\n",
            "For Sales and Administration call: 0333 004 3444\n",
            "For Claims call: 0333 004 3444  \n",
            "Email: support@Guardcover.co.uk \n",
            "Website: www.cycleguard.co.uk\n",
            "Our address:\n",
            "cycleGuard, Thistle Insurance Services Limited, Southgate House, Southgate Street, Gloucester, GL1 1UB\n",
            "Financial Services Compensation Scheme\n",
            "If Watford Insurance Company Europe Limited cannot meet their obligations, you  may be entitled to compensation \n",
            "from the Financial Services Compensation Scheme (FSCS). You can get more information about compensation scheme \n",
            "arrangements from the FSCS or visit www.fscs.org.uk\n",
            "Law Applicable to this Contract\n",
            "This policy is governed by English law. INFORMATION ABOUT \n",
            "YOUR INSURANCE  \n",
            "PROVIDERS\n",
            "This document can be made available in other formats on request.\n",
            "cycleGuard is a trading style of Thistle Insurance Services Limited. Thistle Insurance Services Limited is authorised and regulated by the Financial Conduct \n",
            "Authority. FRN 310419. Registered in England No. 00338645. Registered office: Rossington’s Business Park, West Carr Road, Retford, Nottinghamshire, \n",
            "DN22 7SW. Thistle Insurance Services Limited is part of the PIB Group.\n",
            "TPD0793 4 03/21\n"
          ]
        }
      ],
      "source": [
        "question1 = \"What is the name and address of the insuance company?\"\n",
        "vector_query_1 = vector_store.similarity_search(question1)\n",
        "print(vector_query_1[0].page_content)"
      ]
    },
    {
      "cell_type": "markdown",
      "metadata": {
        "id": "TpyQ5ExZn9Zw"
      },
      "source": [
        "The output from the first query is verbose, but it does contain all of the pertinent information from the document."
      ]
    },
    {
      "cell_type": "code",
      "execution_count": 8,
      "metadata": {
        "colab": {
          "base_uri": "https://localhost:8080/"
        },
        "id": "vSOXuruelA40",
        "outputId": "8318fe85-beea-4b3a-c68d-2d34341481d1"
      },
      "outputs": [
        {
          "output_type": "stream",
          "name": "stdout",
          "text": [
            "Details of Y our Excess\n",
            "All claims for insured items are subject to the following excess  unless otherwise stated on your  Insurance Schedule:\n",
            "Claim amount Excess payable\n",
            "£0 - £1,499 £50\n",
            "£1,500 - £2,999 £100\n",
            "£3,000 - £4,999 £150\n",
            "£5,000 or above £200\n",
            "Public Liability claims are subject to a £500 excess for all third-party property damage. \n",
            "7IMPORTANT \n",
            "INFORMATION\n"
          ]
        }
      ],
      "source": [
        "question2 = \"What are the excess amounts?\"\n",
        "vector_query_2 = vector_store.similarity_search(question2)\n",
        "print(vector_query_2[0].page_content)"
      ]
    },
    {
      "cell_type": "markdown",
      "metadata": {
        "id": "aHdEcZVIoFgJ"
      },
      "source": [
        "The second query has also returned the key information from the document relating to excess amounts."
      ]
    },
    {
      "cell_type": "markdown",
      "metadata": {
        "id": "HGCzDqxch2yK"
      },
      "source": [
        "## **3. Create an AI Tool Using Langchain**\n",
        "Next, an LLM will be used to summarise the output from the Chroma vector store, which will then provide concise answers to user queries relating to the PDF document. This will be achieved through the use of a langchain retrieval chain, which chains together the text embedding model, vector store and LLM.\n",
        "\n",
        "The LLM that will be used for this part of the project is called Google \"flan-t5-large\", and it can be viewed at this link: https://huggingface.co/google/flan-t5-large. This model boasts better performance than larger models and after some testing it was selected for use in this project.\n",
        "\n",
        "The purpose of this LLM is to summarise the returned information from the vector embedding database.\n"
      ]
    },
    {
      "cell_type": "code",
      "execution_count": 70,
      "metadata": {
        "id": "QRs1aarwBV3j"
      },
      "outputs": [],
      "source": [
        "llm_hf = HuggingFaceHub(repo_id=\"google/flan-t5-large\", model_kwargs={\"temperature\":0.2, \"max_length\":512})\n",
        "\n",
        "retriever = vector_store.as_retriever(search_kwargs={\"k\": 3})\n",
        "\n",
        "chain_qa = RetrievalQA.from_chain_type(\n",
        "    llm=llm_hf,\n",
        "    chain_type=\"stuff\",\n",
        "    retriever=retriever,\n",
        "    input_key = 'question')"
      ]
    },
    {
      "cell_type": "code",
      "execution_count": 71,
      "metadata": {
        "colab": {
          "base_uri": "https://localhost:8080/"
        },
        "id": "VuiXNMd55rbQ",
        "outputId": "64e8000c-86d3-4d1b-8e1d-7e10e286d102"
      },
      "outputs": [
        {
          "output_type": "execute_result",
          "data": {
            "text/plain": [
              "{'question': 'What are the excess amounts?',\n",
              " 'result': '£0 - £1,499 £50 £1,500 - £2,999 £100 £3,000 - £4,999 £150 £5,000 or above £200 Public Liability claims are subject to a £500 excess for all third-party property damage.'}"
            ]
          },
          "metadata": {},
          "execution_count": 71
        }
      ],
      "source": [
        "query1 = 'What are the excess amounts?'\n",
        "chain_qa.invoke({\"question\": query1})"
      ]
    },
    {
      "cell_type": "code",
      "execution_count": 73,
      "metadata": {
        "colab": {
          "base_uri": "https://localhost:8080/"
        },
        "id": "Zw6CRtMhBV0K",
        "outputId": "97306c15-da39-4cd8-9f41-29ea01cfb102"
      },
      "outputs": [
        {
          "output_type": "execute_result",
          "data": {
            "text/plain": [
              "{'question': 'What is the name of the insurance company?',\n",
              " 'result': 'Thistle Insurance Services Limited'}"
            ]
          },
          "metadata": {},
          "execution_count": 73
        }
      ],
      "source": [
        "query2 = 'What is the name of the insurance company?'\n",
        "chain_qa.invoke({\"question\": query2})"
      ]
    },
    {
      "cell_type": "code",
      "execution_count": 74,
      "metadata": {
        "colab": {
          "base_uri": "https://localhost:8080/"
        },
        "id": "dEMTYcDi59fF",
        "outputId": "59f5dff3-db51-4389-f233-0bcd0bbf4015"
      },
      "outputs": [
        {
          "output_type": "execute_result",
          "data": {
            "text/plain": [
              "{'question': 'What are all of the circumstances where the insurance not valid?',\n",
              " 'result': '1. You engaging in any illegal or criminal act. 2. You being under the influence of drugs, solvents or alcohol, or the injection or ingestion of any substance except those prescribed by a registered medical doctor. 3. Suicide, attempted suicide or deliberate injury to you or putting yourself in unnecessary danger (unless trying to save human life). Pressure Waves This policy does not provide cover for claims, contributed to or caused by pressure waves from aircraft or other aerial devices travelling at supersonic speeds. Riot, Civil Commotion or Strikes This policy does not provide cover for claims, contributed to or caused by riot, civil commotion or strikes.'}"
            ]
          },
          "metadata": {},
          "execution_count": 74
        }
      ],
      "source": [
        "query3 = 'What are all of the circumstances where the insurance not valid?'\n",
        "chain_qa.invoke({\"question\": query3})"
      ]
    },
    {
      "cell_type": "markdown",
      "source": [
        "All of the above queries have pulled the relevant information from the insurance document."
      ],
      "metadata": {
        "id": "mcBxtxZN14Wi"
      }
    },
    {
      "cell_type": "markdown",
      "metadata": {
        "id": "ClLehV5rbyfO"
      },
      "source": [
        "## **4. Streamlit Application**\n",
        "The langchain retrieval chain will be used within a streamlit application, which will provide a much more professional user interface for the document querying AI tool.\n",
        "\n"
      ]
    },
    {
      "cell_type": "code",
      "execution_count": 3,
      "metadata": {
        "colab": {
          "base_uri": "https://localhost:8080/"
        },
        "id": "Icu-K9H9gCZ9",
        "outputId": "4501f37e-7143-4176-cce8-9de2ff5439d8"
      },
      "outputs": [
        {
          "output_type": "stream",
          "name": "stdout",
          "text": [
            "Overwriting streamlit_app.py\n"
          ]
        }
      ],
      "source": [
        "%%writefile streamlit_app.py\n",
        "\n",
        "## Note: Use GPU acceleration for this streamlit app due to much shorter time to embed the document\n",
        "\n",
        "import streamlit as st\n",
        "import os\n",
        "from langchain.vectorstores import Chroma\n",
        "from langchain.document_loaders import PyPDFLoader\n",
        "from langchain.embeddings import HuggingFaceInstructEmbeddings\n",
        "from langchain.llms import HuggingFaceHub\n",
        "from langchain.chains import RetrievalQA\n",
        "\n",
        "# Set HuggingFace private API Key\n",
        "os.environ['HUGGINGFACEHUB_API_TOKEN'] = 'your_private_API_key' # Your private huggingface API key\n",
        "\n",
        "# Huggingface text embedding model:\n",
        "text_embedding_model = HuggingFaceInstructEmbeddings(model_name=\"hkunlp/instructor-xl\")\n",
        "\n",
        "# Load the PDF document:\n",
        "input_document = PyPDFLoader('cycleGuard Policy Wording 2021-03.pdf') # Ensure this PDF document file has already been loaded into Colab working directory!\n",
        "# Split pages from the PDF\n",
        "pages = input_document.load_and_split()\n",
        "# Load documents into chroma embedding database:\n",
        "vector_store = Chroma.from_documents(pages, text_embedding_model, collection_name='cycle_insurance')\n",
        "\n",
        "# Huggingface LLM\n",
        "LLM = HuggingFaceHub(repo_id=\"google/flan-t5-large\", model_kwargs={\"temperature\":0.2, \"max_length\":512})\n",
        "retriever = vector_store.as_retriever(search_kwargs={\"k\": 3})\n",
        "retrieval_QA_chain = RetrievalQA.from_chain_type(\n",
        "    llm=LLM,\n",
        "    chain_type=\"stuff\",\n",
        "    retriever=retriever,\n",
        "    input_key = 'question')\n",
        "\n",
        "#-----------------Streamlit App Functionality----------------------#\n",
        "st.title('Using HuggingFace Open Source LLMs to Answer Queries on an Insurance Document') # App title\n",
        "user_input = st.text_input('Enter your query here:') # User input box\n",
        "if user_input: # If user enters a query via the app interface, pass the query to Huggingface LLM\n",
        "    HF_response = retrieval_QA_chain.invoke({\"question\": user_input})\n",
        "    st.write(HF_response[\"result\"]) # Display the LLM response\n"
      ]
    },
    {
      "cell_type": "markdown",
      "source": [
        "The next cell contains the code to run the streamlit app via a hyperlink that will be displayed in the colab notebook. Click the url and then enter the password on that page to reach the streamlit app."
      ],
      "metadata": {
        "id": "yE8og8zQ2wDh"
      }
    },
    {
      "cell_type": "code",
      "execution_count": null,
      "metadata": {
        "colab": {
          "base_uri": "https://localhost:8080/"
        },
        "id": "_hx4RFwmfMqt",
        "outputId": "2f2f8262-537b-4087-eaa8-d35aceb16e55"
      },
      "outputs": [
        {
          "output_type": "stream",
          "name": "stdout",
          "text": [
            "Password/Enpoint IP for localtunnel is: 34.125.193.56\n",
            "34.125.193.56\n",
            "\u001b[K\u001b[?25hnpx: installed 22 in 2.286s\n",
            "your url is: https://bumpy-cups-wonder.loca.lt\n"
          ]
        }
      ],
      "source": [
        "print(\"Password/Enpoint IP for localtunnel is:\", urllib.request.urlopen('https://ipv4.icanhazip.com').read().decode('utf8').strip(\"\\n\"))\n",
        "!streamlit run streamlit_app.py &>/content/logs.txt & npx localtunnel --port 8501 & curl ipv4.icanhazip.com"
      ]
    },
    {
      "cell_type": "markdown",
      "metadata": {
        "id": "ibL7aZUpMkCC"
      },
      "source": [
        "# **5. Conclusion**\n",
        "This notebook has shown how a document querying AI tool can be created using open source models that are accessed via API calls to the Huggingface hub. This has been further developed into a Streamlit app, which provides a clean user interface and removes the need for the user to execute Python code directly.\n",
        "For further work, different LLMs could be investigated, chat memory could be displayed or multiple documents could be added.  "
      ]
    }
  ],
  "metadata": {
    "colab": {
      "provenance": [],
      "gpuType": "T4"
    },
    "kernelspec": {
      "display_name": "Python 3",
      "name": "python3"
    },
    "language_info": {
      "name": "python"
    },
    "accelerator": "GPU"
  },
  "nbformat": 4,
  "nbformat_minor": 0
}